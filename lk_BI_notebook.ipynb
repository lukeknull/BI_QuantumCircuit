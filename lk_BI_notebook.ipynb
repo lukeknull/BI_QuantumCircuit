{
 "cells": [
  {
   "cell_type": "code",
   "execution_count": null,
   "id": "11f2ecab-0a84-46e6-a498-b57746653051",
   "metadata": {},
   "outputs": [],
   "source": [
    "%%sh\n",
    "compiler_path=\"/opt/.qbraid/environments/intel_zr7hfq/intel-quantum-compiler\"\n",
    "\n",
    "$compiler_path lk_BI.cpp"
   ]
  },
  {
   "cell_type": "code",
   "execution_count": null,
   "id": "cfbba519-5e4e-484f-a763-fd193bfbe5d1",
   "metadata": {
    "tags": []
   },
   "outputs": [],
   "source": [
    "%%sh\n",
    "\n",
    "./lk_BI"
   ]
  },
  {
   "cell_type": "code",
   "execution_count": null,
   "id": "6229b21c-027e-4f72-9d6f-fae3b679b91e",
   "metadata": {},
   "outputs": [],
   "source": [
    "# Information: Gates\n",
    "!cat /opt/.qbraid/environments/intel_zr7hfq/LLVM-10.0.0-Linux/include/clang/Quantum/quintrinsics.h"
   ]
  }
 ],
 "metadata": {
  "kernelspec": {
   "display_name": "Python 3 [Default]",
   "language": "python",
   "name": "python3"
  },
  "language_info": {
   "codemirror_mode": {
    "name": "ipython",
    "version": 3
   },
   "file_extension": ".py",
   "mimetype": "text/x-python",
   "name": "python",
   "nbconvert_exporter": "python",
   "pygments_lexer": "ipython3",
   "version": "3.9.10"
  }
 },
 "nbformat": 4,
 "nbformat_minor": 5
}
